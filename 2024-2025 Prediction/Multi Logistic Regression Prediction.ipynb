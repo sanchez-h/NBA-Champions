{
 "cells": [
  {
   "cell_type": "code",
   "execution_count": 3,
   "id": "6be38b83-5518-482b-91f9-8f763328ade3",
   "metadata": {},
   "outputs": [],
   "source": [
    "# Bringing in the data\n",
    "\n",
    "import pandas as pd\n",
    "\n",
    "# Read the CSV file into a DataFrame\n",
    "df_mm = pd.read_csv(\"C:/Users/hagen/Downloads/NBA DATA/Teams/Transformed Data/mm_data.csv\")\n",
    "\n",
    "df_p = pd.read_csv(\"C:/Users/hagen/Downloads/NBA DATA/Teams/Transformed Data/p_data.csv\")"
   ]
  },
  {
   "cell_type": "code",
   "execution_count": 5,
   "id": "0a07bfc6-a41c-4846-a5a9-83210dad6c76",
   "metadata": {},
   "outputs": [],
   "source": [
    "import pandas as pd\n",
    "from sklearn.linear_model import LogisticRegression\n",
    "from statsmodels.stats.outliers_influence import variance_inflation_factor\n",
    "\n",
    "def predict_nba_champion(df, model, selected_features):\n",
    "    \"\"\"\n",
    "    Function to predict the top 5 NBA teams for the upcoming season using Logistic Regression.\n",
    "    Trains the model on the years 2019-2023 using a range.\n",
    "    \"\"\"\n",
    "    # Train the model using data from 2019-2023\n",
    "    train_data = df[df['Year'].between(2019, 2023)]  # Use 2019-2023 data for training\n",
    "    X_train = train_data[selected_features]\n",
    "    y_train = train_data['Levels']\n",
    "\n",
    "    # Print VIF if multiple features\n",
    "    if len(selected_features) > 1:\n",
    "        vif_data = pd.DataFrame({\n",
    "            \"Feature\": selected_features,\n",
    "            \"VIF\": [variance_inflation_factor(X_train.values, i) for i in range(X_train.shape[1])]\n",
    "        })\n",
    "        print(f\"VIF for {selected_features}:\\n{vif_data}\\n\")\n",
    "    \n",
    "    model.fit(X_train, y_train)\n",
    "\n",
    "    # Get data for the upcoming season\n",
    "    test_data = df[df['Year'] == 2024]  # Get the data for the upcoming season\n",
    "    X_test = test_data[selected_features]\n",
    "\n",
    "    # Make predictions for the upcoming season\n",
    "    y_pred = model.predict_proba(X_test)\n",
    "\n",
    "    # Rank teams for the upcoming season based on predicted probabilities\n",
    "    ranked_teams = test_data[['Team']].copy()\n",
    "    ranked_teams['Score'] = y_pred[:, 4]\n",
    "    ranked_teams = ranked_teams.sort_values(by='Score', ascending=False)\n",
    "\n",
    "    # Get the top 5 teams and their scores\n",
    "    top_teams = ranked_teams.head(5)\n",
    "    top_teams_list = top_teams.apply(lambda row: f\"{row['Team']}: {row['Score']:.4f}\", axis=1).tolist()\n",
    "    \n",
    "    # Print the top 5 predictions\n",
    "    print(f\"\\nTop 5 predictions for the upcoming NBA season:\")\n",
    "    for i, team in enumerate(top_teams_list, 1):\n",
    "        print(f\"{i}. {team}\")"
   ]
  },
  {
   "cell_type": "code",
   "execution_count": 6,
   "id": "f9121b97-8e0c-41e0-84e8-e502d32198d7",
   "metadata": {},
   "outputs": [],
   "source": [
    "model = LogisticRegression(multi_class='ovr', solver='lbfgs', max_iter=1000)\n",
    "\n",
    "selected_features = ['W', 'eFG%']"
   ]
  },
  {
   "cell_type": "code",
   "execution_count": null,
   "id": "b3fd14c9-6a58-48fa-84fb-dd15b55b1730",
   "metadata": {},
   "outputs": [],
   "source": []
  },
  {
   "cell_type": "code",
   "execution_count": 18,
   "id": "b0940cf6-71a4-4c11-8382-06377e00612d",
   "metadata": {},
   "outputs": [
    {
     "name": "stdout",
     "output_type": "stream",
     "text": [
      "VIF for ['W', 'eFG%']:\n",
      "  Feature       VIF\n",
      "0       W  6.949585\n",
      "1    eFG%  6.949585\n",
      "\n",
      "\n",
      "Top 5 predictions for the upcoming NBA season:\n",
      "1. Cleveland Cavaliers: 0.0755\n",
      "2. Denver Nuggets: 0.0710\n",
      "3. Indiana Pacers: 0.0662\n",
      "4. Boston Celtics: 0.0653\n",
      "5. Oklahoma City Thunder: 0.0626\n"
     ]
    },
    {
     "data": {
      "text/plain": [
       "'2025-04-14 16:06:30'"
      ]
     },
     "execution_count": 18,
     "metadata": {},
     "output_type": "execute_result"
    }
   ],
   "source": [
    "import warnings\n",
    "from datetime import datetime\n",
    "\n",
    "# Mute the specific FutureWarning for 'multi_class' deprecation in LogisticRegression\n",
    "warnings.filterwarnings(\"ignore\", category=FutureWarning, \n",
    "                        message=\".*'multi_class' was deprecated.*\")\n",
    "\n",
    "def current_time_and_date():\n",
    "    now = datetime.now()\n",
    "    return now.strftime(\"%Y-%m-%d %H:%M:%S\")  # Format: YYYY-MM-DD HH:MM:SS\n",
    "\n",
    "predict_nba_champion(df_p, model, selected_features)\n",
    "\n",
    "current_time_and_date()"
   ]
  },
  {
   "cell_type": "code",
   "execution_count": null,
   "id": "b0785327-8c69-4894-9d37-0e7d9040d951",
   "metadata": {},
   "outputs": [],
   "source": []
  }
 ],
 "metadata": {
  "kernelspec": {
   "display_name": "Python 3 (ipykernel)",
   "language": "python",
   "name": "python3"
  },
  "language_info": {
   "codemirror_mode": {
    "name": "ipython",
    "version": 3
   },
   "file_extension": ".py",
   "mimetype": "text/x-python",
   "name": "python",
   "nbconvert_exporter": "python",
   "pygments_lexer": "ipython3",
   "version": "3.11.7"
  }
 },
 "nbformat": 4,
 "nbformat_minor": 5
}
